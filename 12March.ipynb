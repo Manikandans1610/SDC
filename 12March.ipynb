{
  "nbformat": 4,
  "nbformat_minor": 0,
  "metadata": {
    "colab": {
      "provenance": [],
      "authorship_tag": "ABX9TyOidsma7lDwVTPjz222xCoA",
      "include_colab_link": true
    },
    "kernelspec": {
      "name": "python3",
      "display_name": "Python 3"
    },
    "language_info": {
      "name": "python"
    }
  },
  "cells": [
    {
      "cell_type": "markdown",
      "metadata": {
        "id": "view-in-github",
        "colab_type": "text"
      },
      "source": [
        "<a href=\"https://colab.research.google.com/github/Manikandans1610/SDC/blob/main/12March.ipynb\" target=\"_parent\"><img src=\"https://colab.research.google.com/assets/colab-badge.svg\" alt=\"Open In Colab\"/></a>"
      ]
    },
    {
      "cell_type": "code",
      "execution_count": null,
      "metadata": {
        "colab": {
          "base_uri": "https://localhost:8080/"
        },
        "id": "1UrI31s9yKPg",
        "outputId": "07dc1a21-9700-41b1-91fb-55ec7a32c31b"
      },
      "outputs": [
        {
          "output_type": "stream",
          "name": "stdout",
          "text": [
            "Enter the text you want to translate: tamil\n",
            "Enter the source language code (e.g., 'en' for English, 'es' for Spanish): en\n",
            "Enter the destination language code (e.g., 'en' for English, 'es' for Spanish): ta\n",
            "\n",
            "Original Text: tamil\n",
            "Translated Text: தமிழ்\n"
          ]
        }
      ],
      "source": [
        "from googletrans import Translator\n",
        "\n",
        "translator = Translator()\n",
        "\n",
        "def translate_text(text, src_language='en', dest_language='es'):\n",
        "    translated = translator.translate(text, src=src_language, dest=dest_language)\n",
        "    return translated.text\n",
        "\n",
        "def get_user_input():\n",
        "    text = input(\"Enter the text you want to translate: \")\n",
        "    src_language = input(\"Enter the source language code (e.g., 'en' for English, 'es' for Spanish): \")\n",
        "    if not src_language:\n",
        "        src_language = 'en'\n",
        "\n",
        "    dest_language = input(\"Enter the destination language code (e.g., 'en' for English, 'es' for Spanish): \")\n",
        "    if not dest_language:\n",
        "        dest_language = 'es'\n",
        "    translated_text = translate_text(text, src_language, dest_language)\n",
        "    print(f\"\\nOriginal Text: {text}\")\n",
        "    print(f\"Translated Text: {translated_text}\")\n",
        "\n",
        "get_user_input()\n",
        "\n"
      ]
    }
  ]
}